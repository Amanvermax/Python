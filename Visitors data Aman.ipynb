{
 "cells": [
  {
   "cell_type": "code",
   "execution_count": 38,
   "id": "0370a537",
   "metadata": {},
   "outputs": [],
   "source": [
    "import pandas as pd \n",
    "import numpy as np\n",
    "import seaborn as sns\n",
    "import matplotlib.pyplot as plt \n",
    "import plotly.express as px"
   ]
  },
  {
   "cell_type": "markdown",
   "id": "cd34efb6",
   "metadata": {},
   "source": [
    "<font color=blue> ***Reading Excel file using Pandas*** </font>"
   ]
  },
  {
   "cell_type": "code",
   "execution_count": 39,
   "id": "1142a2a7",
   "metadata": {},
   "outputs": [],
   "source": [
    "# Provide the correct file path \n",
    "file_path = r'C:\\Users\\amyve\\OneDrive\\Desktop\\data6.xlsx'\n",
    "\n",
    "# Read the Excel file\n",
    "df = pd.read_excel(file_path)\n"
   ]
  },
  {
   "cell_type": "markdown",
   "id": "1b594200",
   "metadata": {},
   "source": [
    "# Data Cleaning and Transformation"
   ]
  },
  {
   "cell_type": "markdown",
   "id": "b40ab414",
   "metadata": {},
   "source": [
    "<font color=purple> ***When we explore the dataset,there were ample number of columns and rows having null values, wrong data and misplaced letters.\n",
    "1) Replaced letter Z with A\n",
    "2) Replace null values with nan \n",
    "3) Corrected required spelling \n",
    "4) Drop the first row which was unneccasry*** </font> \n"
   ]
  },
  {
   "cell_type": "markdown",
   "id": "1925c6b3",
   "metadata": {},
   "source": [
    "<font color=blue> ***show the dataset*** </font>"
   ]
  },
  {
   "cell_type": "code",
   "execution_count": 3,
   "id": "6b611598",
   "metadata": {},
   "outputs": [
    {
     "data": {
      "text/html": [
       "<div>\n",
       "<style scoped>\n",
       "    .dataframe tbody tr th:only-of-type {\n",
       "        vertical-align: middle;\n",
       "    }\n",
       "\n",
       "    .dataframe tbody tr th {\n",
       "        vertical-align: top;\n",
       "    }\n",
       "\n",
       "    .dataframe thead th {\n",
       "        text-align: right;\n",
       "    }\n",
       "</style>\n",
       "<table border=\"1\" class=\"dataframe\">\n",
       "  <thead>\n",
       "    <tr style=\"text-align: right;\">\n",
       "      <th></th>\n",
       "      <th>Sr.No</th>\n",
       "      <th>Host Nzme</th>\n",
       "      <th>Host Emp. Id</th>\n",
       "      <th>Host Depzrtment</th>\n",
       "      <th>VISITOR  NzME</th>\n",
       "      <th>Contzct No</th>\n",
       "      <th>ID Proof No.</th>\n",
       "      <th>Visit Purpose</th>\n",
       "      <th>Dzte of Visit</th>\n",
       "      <th>Durztion of Visit</th>\n",
       "      <th>zccess Czrd</th>\n",
       "      <th>In Time</th>\n",
       "      <th>Out time</th>\n",
       "      <th>Vehicle No</th>\n",
       "      <th>RF ID</th>\n",
       "      <th>DVR Pzss No</th>\n",
       "      <th>Remzrks</th>\n",
       "      <th>Bzcon number</th>\n",
       "    </tr>\n",
       "  </thead>\n",
       "  <tbody>\n",
       "    <tr>\n",
       "      <th>0</th>\n",
       "      <td>NaN</td>\n",
       "      <td>NaN</td>\n",
       "      <td>NaN</td>\n",
       "      <td>NaN</td>\n",
       "      <td>01.08.2022</td>\n",
       "      <td>NaN</td>\n",
       "      <td>NaN</td>\n",
       "      <td>NaN</td>\n",
       "      <td>NaN</td>\n",
       "      <td>NaN</td>\n",
       "      <td>NaN</td>\n",
       "      <td>NaN</td>\n",
       "      <td>NaN</td>\n",
       "      <td>NaN</td>\n",
       "      <td>NaN</td>\n",
       "      <td>NaN</td>\n",
       "      <td>NaN</td>\n",
       "      <td>NaN</td>\n",
       "    </tr>\n",
       "    <tr>\n",
       "      <th>1</th>\n",
       "      <td>1.0</td>\n",
       "      <td>Nzmzn Vyzs</td>\n",
       "      <td>NaN</td>\n",
       "      <td>NaN</td>\n",
       "      <td>Dinesh znznd</td>\n",
       "      <td>7255767722</td>\n",
       "      <td>376285000000</td>\n",
       "      <td>metting</td>\n",
       "      <td>01.08.2022</td>\n",
       "      <td>01 dzy</td>\n",
       "      <td>v08</td>\n",
       "      <td>08:30:00</td>\n",
       "      <td>17:57:00</td>\n",
       "      <td>NaN</td>\n",
       "      <td>NaN</td>\n",
       "      <td>NaN</td>\n",
       "      <td>till to 02 zugust</td>\n",
       "      <td>NaN</td>\n",
       "    </tr>\n",
       "    <tr>\n",
       "      <th>2</th>\n",
       "      <td>2.0</td>\n",
       "      <td>Jigzr Mzheshwzri</td>\n",
       "      <td>zHDIT00336</td>\n",
       "      <td>IT</td>\n",
       "      <td>Rzjeshwzr Rzmi</td>\n",
       "      <td>5574043553</td>\n",
       "      <td>7005 4588 3505</td>\n",
       "      <td>Trznsfer</td>\n",
       "      <td>01.08.2022</td>\n",
       "      <td>01 dzy</td>\n",
       "      <td>w45</td>\n",
       "      <td>08:52:00</td>\n",
       "      <td>18:38:00</td>\n",
       "      <td>NaN</td>\n",
       "      <td>NaN</td>\n",
       "      <td>NaN</td>\n",
       "      <td>till to 13 zugust</td>\n",
       "      <td>NaN</td>\n",
       "    </tr>\n",
       "    <tr>\n",
       "      <th>3</th>\n",
       "      <td>3.0</td>\n",
       "      <td>Sznkit Shzh</td>\n",
       "      <td>NaN</td>\n",
       "      <td>NaN</td>\n",
       "      <td>zrpzn Shzh</td>\n",
       "      <td>6582282651</td>\n",
       "      <td>NaN</td>\n",
       "      <td>joining</td>\n",
       "      <td>01.08.2022</td>\n",
       "      <td>01 dzy</td>\n",
       "      <td>e05</td>\n",
       "      <td>05:14:00</td>\n",
       "      <td>18:16:00</td>\n",
       "      <td>NaN</td>\n",
       "      <td>NaN</td>\n",
       "      <td>NaN</td>\n",
       "      <td>till to 6 zugust</td>\n",
       "      <td>NaN</td>\n",
       "    </tr>\n",
       "    <tr>\n",
       "      <th>4</th>\n",
       "      <td>4.0</td>\n",
       "      <td>Devendrz Kzroshikzr</td>\n",
       "      <td>NaN</td>\n",
       "      <td>NaN</td>\n",
       "      <td>Lokesh Meenz</td>\n",
       "      <td>7855805351</td>\n",
       "      <td>NaN</td>\n",
       "      <td>joining</td>\n",
       "      <td>01.08.2022</td>\n",
       "      <td>01 dzy</td>\n",
       "      <td>w50</td>\n",
       "      <td>05:36:00</td>\n",
       "      <td>15:34:00</td>\n",
       "      <td>NaN</td>\n",
       "      <td>NaN</td>\n",
       "      <td>NaN</td>\n",
       "      <td>till to 6 zugust</td>\n",
       "      <td>reception zre</td>\n",
       "    </tr>\n",
       "    <tr>\n",
       "      <th>...</th>\n",
       "      <td>...</td>\n",
       "      <td>...</td>\n",
       "      <td>...</td>\n",
       "      <td>...</td>\n",
       "      <td>...</td>\n",
       "      <td>...</td>\n",
       "      <td>...</td>\n",
       "      <td>...</td>\n",
       "      <td>...</td>\n",
       "      <td>...</td>\n",
       "      <td>...</td>\n",
       "      <td>...</td>\n",
       "      <td>...</td>\n",
       "      <td>...</td>\n",
       "      <td>...</td>\n",
       "      <td>...</td>\n",
       "      <td>...</td>\n",
       "      <td>...</td>\n",
       "    </tr>\n",
       "    <tr>\n",
       "      <th>1622</th>\n",
       "      <td>166.0</td>\n",
       "      <td>Dhznesh Tzilor</td>\n",
       "      <td>NaN</td>\n",
       "      <td>NaN</td>\n",
       "      <td>Dzmini Chzudhzri</td>\n",
       "      <td>7045137363</td>\n",
       "      <td>NaN</td>\n",
       "      <td>metting</td>\n",
       "      <td>06.08.2022</td>\n",
       "      <td>01dzy</td>\n",
       "      <td>v145</td>\n",
       "      <td>16:38:00</td>\n",
       "      <td>15:25:00</td>\n",
       "      <td>gj01hu0587</td>\n",
       "      <td>v784</td>\n",
       "      <td>NaN</td>\n",
       "      <td>NaN</td>\n",
       "      <td>NaN</td>\n",
       "    </tr>\n",
       "    <tr>\n",
       "      <th>1623</th>\n",
       "      <td>167.0</td>\n",
       "      <td>PzRIDHI BHzVSzR</td>\n",
       "      <td>NaN</td>\n",
       "      <td>HR</td>\n",
       "      <td>MR DIPzK PzRMzR</td>\n",
       "      <td>8505785082</td>\n",
       "      <td>566861000000</td>\n",
       "      <td>metting</td>\n",
       "      <td>06.08.2022</td>\n",
       "      <td>01dzy</td>\n",
       "      <td>V286</td>\n",
       "      <td>17;06</td>\n",
       "      <td>18:20:00</td>\n",
       "      <td>NaN</td>\n",
       "      <td>NaN</td>\n",
       "      <td>NaN</td>\n",
       "      <td>NaN</td>\n",
       "      <td>NaN</td>\n",
       "    </tr>\n",
       "    <tr>\n",
       "      <th>1624</th>\n",
       "      <td>168.0</td>\n",
       "      <td>zshok Chzudhzry</td>\n",
       "      <td>5100165546</td>\n",
       "      <td>Techniczl</td>\n",
       "      <td>zndhzriz hemzl</td>\n",
       "      <td>5723460046</td>\n",
       "      <td>613025000000</td>\n",
       "      <td>Mzintenznce</td>\n",
       "      <td>06.08.2022</td>\n",
       "      <td>01dzy</td>\n",
       "      <td>V207</td>\n",
       "      <td>17:13:00</td>\n",
       "      <td>18:21:00</td>\n",
       "      <td>GJ01KWE2578</td>\n",
       "      <td>V452</td>\n",
       "      <td>NaN</td>\n",
       "      <td>NaN</td>\n",
       "      <td>NaN</td>\n",
       "    </tr>\n",
       "    <tr>\n",
       "      <th>1625</th>\n",
       "      <td>165.0</td>\n",
       "      <td>Chirzg Pztel</td>\n",
       "      <td>S0057743</td>\n",
       "      <td>Store</td>\n",
       "      <td>Kzlpesh Pzrmzr</td>\n",
       "      <td>5727735762</td>\n",
       "      <td>520383000000</td>\n",
       "      <td>Officizl</td>\n",
       "      <td>06.08.2022</td>\n",
       "      <td>01dzy</td>\n",
       "      <td>V255</td>\n",
       "      <td>17:16:00</td>\n",
       "      <td>18:20:00</td>\n",
       "      <td>NaN</td>\n",
       "      <td>NaN</td>\n",
       "      <td>NaN</td>\n",
       "      <td>NaN</td>\n",
       "      <td>NaN</td>\n",
       "    </tr>\n",
       "    <tr>\n",
       "      <th>1626</th>\n",
       "      <td>NaN</td>\n",
       "      <td>NaN</td>\n",
       "      <td>NaN</td>\n",
       "      <td>NaN</td>\n",
       "      <td>08.08.2022</td>\n",
       "      <td>NaN</td>\n",
       "      <td>NaN</td>\n",
       "      <td>NaN</td>\n",
       "      <td>NaN</td>\n",
       "      <td>NaN</td>\n",
       "      <td>NaN</td>\n",
       "      <td>NaN</td>\n",
       "      <td>NaN</td>\n",
       "      <td>NaN</td>\n",
       "      <td>NaN</td>\n",
       "      <td>NaN</td>\n",
       "      <td>NaN</td>\n",
       "      <td>NaN</td>\n",
       "    </tr>\n",
       "  </tbody>\n",
       "</table>\n",
       "<p>1627 rows × 18 columns</p>\n",
       "</div>"
      ],
      "text/plain": [
       "      Sr.No            Host Nzme Host Emp. Id Host Depzrtment  \\\n",
       "0       NaN                  NaN          NaN             NaN   \n",
       "1       1.0           Nzmzn Vyzs          NaN             NaN   \n",
       "2       2.0     Jigzr Mzheshwzri   zHDIT00336              IT   \n",
       "3       3.0          Sznkit Shzh          NaN             NaN   \n",
       "4       4.0  Devendrz Kzroshikzr          NaN             NaN   \n",
       "...     ...                  ...          ...             ...   \n",
       "1622  166.0       Dhznesh Tzilor          NaN             NaN   \n",
       "1623  167.0      PzRIDHI BHzVSzR          NaN              HR   \n",
       "1624  168.0      zshok Chzudhzry   5100165546       Techniczl   \n",
       "1625  165.0         Chirzg Pztel     S0057743           Store   \n",
       "1626    NaN                  NaN          NaN             NaN   \n",
       "\n",
       "         VISITOR  NzME  Contzct No    ID Proof No. Visit Purpose  \\\n",
       "0           01.08.2022         NaN             NaN           NaN   \n",
       "1         Dinesh znznd  7255767722    376285000000       metting   \n",
       "2       Rzjeshwzr Rzmi  5574043553  7005 4588 3505      Trznsfer   \n",
       "3           zrpzn Shzh  6582282651             NaN       joining   \n",
       "4         Lokesh Meenz  7855805351             NaN       joining   \n",
       "...                ...         ...             ...           ...   \n",
       "1622  Dzmini Chzudhzri  7045137363             NaN       metting   \n",
       "1623   MR DIPzK PzRMzR  8505785082    566861000000       metting   \n",
       "1624    zndhzriz hemzl  5723460046    613025000000   Mzintenznce   \n",
       "1625    Kzlpesh Pzrmzr  5727735762    520383000000      Officizl   \n",
       "1626        08.08.2022         NaN             NaN           NaN   \n",
       "\n",
       "     Dzte of Visit Durztion of Visit zccess Czrd   In Time  Out time  \\\n",
       "0              NaN               NaN         NaN       NaN       NaN   \n",
       "1       01.08.2022            01 dzy         v08  08:30:00  17:57:00   \n",
       "2       01.08.2022            01 dzy         w45  08:52:00  18:38:00   \n",
       "3       01.08.2022            01 dzy         e05  05:14:00  18:16:00   \n",
       "4       01.08.2022            01 dzy         w50  05:36:00  15:34:00   \n",
       "...            ...               ...         ...       ...       ...   \n",
       "1622    06.08.2022             01dzy        v145  16:38:00  15:25:00   \n",
       "1623    06.08.2022             01dzy        V286     17;06  18:20:00   \n",
       "1624    06.08.2022             01dzy        V207  17:13:00  18:21:00   \n",
       "1625    06.08.2022             01dzy        V255  17:16:00  18:20:00   \n",
       "1626           NaN               NaN         NaN       NaN       NaN   \n",
       "\n",
       "       Vehicle No RF ID DVR Pzss No             Remzrks   Bzcon number  \n",
       "0             NaN   NaN          NaN                NaN            NaN  \n",
       "1             NaN   NaN          NaN  till to 02 zugust            NaN  \n",
       "2             NaN   NaN          NaN  till to 13 zugust            NaN  \n",
       "3             NaN   NaN          NaN   till to 6 zugust            NaN  \n",
       "4             NaN   NaN          NaN   till to 6 zugust  reception zre  \n",
       "...           ...   ...          ...                ...            ...  \n",
       "1622   gj01hu0587  v784          NaN                NaN            NaN  \n",
       "1623          NaN   NaN          NaN                NaN            NaN  \n",
       "1624  GJ01KWE2578  V452          NaN                NaN            NaN  \n",
       "1625          NaN   NaN          NaN                NaN            NaN  \n",
       "1626          NaN   NaN          NaN                NaN            NaN  \n",
       "\n",
       "[1627 rows x 18 columns]"
      ]
     },
     "execution_count": 3,
     "metadata": {},
     "output_type": "execute_result"
    }
   ],
   "source": [
    "df"
   ]
  },
  {
   "cell_type": "markdown",
   "id": "87d8cbaf",
   "metadata": {},
   "source": [
    "<font color=blue> ***replace z to a in column*** </font>"
   ]
  },
  {
   "cell_type": "code",
   "execution_count": 45,
   "id": "2fd9891e",
   "metadata": {},
   "outputs": [
    {
     "data": {
      "text/html": [
       "<div>\n",
       "<style scoped>\n",
       "    .dataframe tbody tr th:only-of-type {\n",
       "        vertical-align: middle;\n",
       "    }\n",
       "\n",
       "    .dataframe tbody tr th {\n",
       "        vertical-align: top;\n",
       "    }\n",
       "\n",
       "    .dataframe thead th {\n",
       "        text-align: right;\n",
       "    }\n",
       "</style>\n",
       "<table border=\"1\" class=\"dataframe\">\n",
       "  <thead>\n",
       "    <tr style=\"text-align: right;\">\n",
       "      <th></th>\n",
       "      <th>Sr.No</th>\n",
       "      <th>Host Name</th>\n",
       "      <th>Host Emp. Id</th>\n",
       "      <th>Host Department</th>\n",
       "      <th>VISITOR  NaME</th>\n",
       "      <th>Contact No</th>\n",
       "      <th>ID Proof No.</th>\n",
       "      <th>Visit Purpose</th>\n",
       "      <th>Date of Visit</th>\n",
       "      <th>Duration of Visit</th>\n",
       "      <th>access Card</th>\n",
       "      <th>In Time</th>\n",
       "      <th>Out time</th>\n",
       "      <th>Vehicle No</th>\n",
       "      <th>RF ID</th>\n",
       "      <th>DVR Pass No</th>\n",
       "      <th>Remarks</th>\n",
       "      <th>Bacon number</th>\n",
       "    </tr>\n",
       "  </thead>\n",
       "  <tbody>\n",
       "    <tr>\n",
       "      <th>0</th>\n",
       "      <td>NaN</td>\n",
       "      <td>NaN</td>\n",
       "      <td>NaN</td>\n",
       "      <td>NaN</td>\n",
       "      <td>01.08.2022</td>\n",
       "      <td>NaN</td>\n",
       "      <td>NaN</td>\n",
       "      <td>NaN</td>\n",
       "      <td>NaN</td>\n",
       "      <td>NaN</td>\n",
       "      <td>NaN</td>\n",
       "      <td>NaN</td>\n",
       "      <td>NaN</td>\n",
       "      <td>NaN</td>\n",
       "      <td>NaN</td>\n",
       "      <td>NaN</td>\n",
       "      <td>NaN</td>\n",
       "      <td>NaN</td>\n",
       "    </tr>\n",
       "    <tr>\n",
       "      <th>1</th>\n",
       "      <td>1.0</td>\n",
       "      <td>Naman Vyas</td>\n",
       "      <td>NaN</td>\n",
       "      <td>NaN</td>\n",
       "      <td>Dinesh anand</td>\n",
       "      <td>7255767722</td>\n",
       "      <td>376285000000</td>\n",
       "      <td>metting</td>\n",
       "      <td>01.08.2022</td>\n",
       "      <td>01 day</td>\n",
       "      <td>v08</td>\n",
       "      <td>08:30:00</td>\n",
       "      <td>17:57:00</td>\n",
       "      <td>NaN</td>\n",
       "      <td>NaN</td>\n",
       "      <td>NaN</td>\n",
       "      <td>till to 02 august</td>\n",
       "      <td>NaN</td>\n",
       "    </tr>\n",
       "    <tr>\n",
       "      <th>2</th>\n",
       "      <td>2.0</td>\n",
       "      <td>Jigar Maheshwari</td>\n",
       "      <td>aHDIT00336</td>\n",
       "      <td>IT</td>\n",
       "      <td>Rajeshwar Rami</td>\n",
       "      <td>5574043553</td>\n",
       "      <td>7005 4588 3505</td>\n",
       "      <td>Transfer</td>\n",
       "      <td>01.08.2022</td>\n",
       "      <td>01 day</td>\n",
       "      <td>w45</td>\n",
       "      <td>08:52:00</td>\n",
       "      <td>18:38:00</td>\n",
       "      <td>NaN</td>\n",
       "      <td>NaN</td>\n",
       "      <td>NaN</td>\n",
       "      <td>till to 13 august</td>\n",
       "      <td>NaN</td>\n",
       "    </tr>\n",
       "    <tr>\n",
       "      <th>3</th>\n",
       "      <td>3.0</td>\n",
       "      <td>Sankit Shah</td>\n",
       "      <td>NaN</td>\n",
       "      <td>NaN</td>\n",
       "      <td>arpan Shah</td>\n",
       "      <td>6582282651</td>\n",
       "      <td>NaN</td>\n",
       "      <td>joining</td>\n",
       "      <td>01.08.2022</td>\n",
       "      <td>01 day</td>\n",
       "      <td>e05</td>\n",
       "      <td>05:14:00</td>\n",
       "      <td>18:16:00</td>\n",
       "      <td>NaN</td>\n",
       "      <td>NaN</td>\n",
       "      <td>NaN</td>\n",
       "      <td>till to 6 august</td>\n",
       "      <td>NaN</td>\n",
       "    </tr>\n",
       "    <tr>\n",
       "      <th>4</th>\n",
       "      <td>4.0</td>\n",
       "      <td>Devendra Karoshikar</td>\n",
       "      <td>NaN</td>\n",
       "      <td>NaN</td>\n",
       "      <td>Lokesh Meena</td>\n",
       "      <td>7855805351</td>\n",
       "      <td>NaN</td>\n",
       "      <td>joining</td>\n",
       "      <td>01.08.2022</td>\n",
       "      <td>01 day</td>\n",
       "      <td>w50</td>\n",
       "      <td>05:36:00</td>\n",
       "      <td>15:34:00</td>\n",
       "      <td>NaN</td>\n",
       "      <td>NaN</td>\n",
       "      <td>NaN</td>\n",
       "      <td>till to 6 august</td>\n",
       "      <td>reception are</td>\n",
       "    </tr>\n",
       "    <tr>\n",
       "      <th>...</th>\n",
       "      <td>...</td>\n",
       "      <td>...</td>\n",
       "      <td>...</td>\n",
       "      <td>...</td>\n",
       "      <td>...</td>\n",
       "      <td>...</td>\n",
       "      <td>...</td>\n",
       "      <td>...</td>\n",
       "      <td>...</td>\n",
       "      <td>...</td>\n",
       "      <td>...</td>\n",
       "      <td>...</td>\n",
       "      <td>...</td>\n",
       "      <td>...</td>\n",
       "      <td>...</td>\n",
       "      <td>...</td>\n",
       "      <td>...</td>\n",
       "      <td>...</td>\n",
       "    </tr>\n",
       "    <tr>\n",
       "      <th>1620</th>\n",
       "      <td>164.0</td>\n",
       "      <td>aaron Kalisha</td>\n",
       "      <td>NaN</td>\n",
       "      <td>NaN</td>\n",
       "      <td>Sunil Khatate</td>\n",
       "      <td>8237215842</td>\n",
       "      <td>NaN</td>\n",
       "      <td>metting</td>\n",
       "      <td>06.08.2022</td>\n",
       "      <td>01day</td>\n",
       "      <td>v236</td>\n",
       "      <td>16:10:00</td>\n",
       "      <td>NaN</td>\n",
       "      <td>NaN</td>\n",
       "      <td>NaN</td>\n",
       "      <td>NaN</td>\n",
       "      <td>NaN</td>\n",
       "      <td>NaN</td>\n",
       "    </tr>\n",
       "    <tr>\n",
       "      <th>1621</th>\n",
       "      <td>165.0</td>\n",
       "      <td>Karan Shah</td>\n",
       "      <td>NaN</td>\n",
       "      <td>NaN</td>\n",
       "      <td>Mr alap shah</td>\n",
       "      <td>5714625573</td>\n",
       "      <td>NaN</td>\n",
       "      <td>metting</td>\n",
       "      <td>06.08.2022</td>\n",
       "      <td>01day</td>\n",
       "      <td>v153</td>\n",
       "      <td>16:16:00</td>\n",
       "      <td>17:18:00</td>\n",
       "      <td>NaN</td>\n",
       "      <td>NaN</td>\n",
       "      <td>NaN</td>\n",
       "      <td>NaN</td>\n",
       "      <td>NaN</td>\n",
       "    </tr>\n",
       "    <tr>\n",
       "      <th>1622</th>\n",
       "      <td>166.0</td>\n",
       "      <td>Dhanesh Tailor</td>\n",
       "      <td>NaN</td>\n",
       "      <td>NaN</td>\n",
       "      <td>Damini Chaudhari</td>\n",
       "      <td>7045137363</td>\n",
       "      <td>NaN</td>\n",
       "      <td>metting</td>\n",
       "      <td>06.08.2022</td>\n",
       "      <td>01day</td>\n",
       "      <td>v145</td>\n",
       "      <td>16:38:00</td>\n",
       "      <td>15:25:00</td>\n",
       "      <td>gj01hu0587</td>\n",
       "      <td>v784</td>\n",
       "      <td>NaN</td>\n",
       "      <td>NaN</td>\n",
       "      <td>NaN</td>\n",
       "    </tr>\n",
       "    <tr>\n",
       "      <th>1623</th>\n",
       "      <td>167.0</td>\n",
       "      <td>PaRIDHI BHaVSaR</td>\n",
       "      <td>NaN</td>\n",
       "      <td>HR</td>\n",
       "      <td>MR DIPaK PaRMaR</td>\n",
       "      <td>8505785082</td>\n",
       "      <td>566861000000</td>\n",
       "      <td>metting</td>\n",
       "      <td>06.08.2022</td>\n",
       "      <td>01day</td>\n",
       "      <td>V286</td>\n",
       "      <td>17;06</td>\n",
       "      <td>18:20:00</td>\n",
       "      <td>NaN</td>\n",
       "      <td>NaN</td>\n",
       "      <td>NaN</td>\n",
       "      <td>NaN</td>\n",
       "      <td>NaN</td>\n",
       "    </tr>\n",
       "    <tr>\n",
       "      <th>1624</th>\n",
       "      <td>168.0</td>\n",
       "      <td>ashok Chaudhary</td>\n",
       "      <td>5100165546</td>\n",
       "      <td>Technical</td>\n",
       "      <td>andharia hemal</td>\n",
       "      <td>5723460046</td>\n",
       "      <td>613025000000</td>\n",
       "      <td>Maintenance</td>\n",
       "      <td>06.08.2022</td>\n",
       "      <td>01day</td>\n",
       "      <td>V207</td>\n",
       "      <td>17:13:00</td>\n",
       "      <td>18:21:00</td>\n",
       "      <td>GJ01KWE2578</td>\n",
       "      <td>V452</td>\n",
       "      <td>NaN</td>\n",
       "      <td>NaN</td>\n",
       "      <td>NaN</td>\n",
       "    </tr>\n",
       "  </tbody>\n",
       "</table>\n",
       "<p>1625 rows × 18 columns</p>\n",
       "</div>"
      ],
      "text/plain": [
       "      Sr.No            Host Name Host Emp. Id Host Department  \\\n",
       "0       NaN                  NaN          NaN             NaN   \n",
       "1       1.0           Naman Vyas          NaN             NaN   \n",
       "2       2.0     Jigar Maheshwari   aHDIT00336              IT   \n",
       "3       3.0          Sankit Shah          NaN             NaN   \n",
       "4       4.0  Devendra Karoshikar          NaN             NaN   \n",
       "...     ...                  ...          ...             ...   \n",
       "1620  164.0        aaron Kalisha          NaN             NaN   \n",
       "1621  165.0           Karan Shah          NaN             NaN   \n",
       "1622  166.0       Dhanesh Tailor          NaN             NaN   \n",
       "1623  167.0      PaRIDHI BHaVSaR          NaN              HR   \n",
       "1624  168.0      ashok Chaudhary   5100165546       Technical   \n",
       "\n",
       "         VISITOR  NaME  Contact No    ID Proof No. Visit Purpose  \\\n",
       "0           01.08.2022         NaN             NaN           NaN   \n",
       "1         Dinesh anand  7255767722    376285000000       metting   \n",
       "2       Rajeshwar Rami  5574043553  7005 4588 3505      Transfer   \n",
       "3           arpan Shah  6582282651             NaN       joining   \n",
       "4         Lokesh Meena  7855805351             NaN       joining   \n",
       "...                ...         ...             ...           ...   \n",
       "1620     Sunil Khatate  8237215842             NaN       metting   \n",
       "1621      Mr alap shah  5714625573             NaN       metting   \n",
       "1622  Damini Chaudhari  7045137363             NaN       metting   \n",
       "1623   MR DIPaK PaRMaR  8505785082    566861000000       metting   \n",
       "1624    andharia hemal  5723460046    613025000000   Maintenance   \n",
       "\n",
       "     Date of Visit Duration of Visit access Card   In Time  Out time  \\\n",
       "0              NaN               NaN         NaN       NaN       NaN   \n",
       "1       01.08.2022            01 day         v08  08:30:00  17:57:00   \n",
       "2       01.08.2022            01 day         w45  08:52:00  18:38:00   \n",
       "3       01.08.2022            01 day         e05  05:14:00  18:16:00   \n",
       "4       01.08.2022            01 day         w50  05:36:00  15:34:00   \n",
       "...            ...               ...         ...       ...       ...   \n",
       "1620    06.08.2022             01day        v236  16:10:00       NaN   \n",
       "1621    06.08.2022             01day        v153  16:16:00  17:18:00   \n",
       "1622    06.08.2022             01day        v145  16:38:00  15:25:00   \n",
       "1623    06.08.2022             01day        V286     17;06  18:20:00   \n",
       "1624    06.08.2022             01day        V207  17:13:00  18:21:00   \n",
       "\n",
       "       Vehicle No RF ID DVR Pass No             Remarks   Bacon number  \n",
       "0             NaN   NaN          NaN                NaN            NaN  \n",
       "1             NaN   NaN          NaN  till to 02 august            NaN  \n",
       "2             NaN   NaN          NaN  till to 13 august            NaN  \n",
       "3             NaN   NaN          NaN   till to 6 august            NaN  \n",
       "4             NaN   NaN          NaN   till to 6 august  reception are  \n",
       "...           ...   ...          ...                ...            ...  \n",
       "1620          NaN   NaN          NaN                NaN            NaN  \n",
       "1621          NaN   NaN          NaN                NaN            NaN  \n",
       "1622   gj01hu0587  v784          NaN                NaN            NaN  \n",
       "1623          NaN   NaN          NaN                NaN            NaN  \n",
       "1624  GJ01KWE2578  V452          NaN                NaN            NaN  \n",
       "\n",
       "[1625 rows x 18 columns]"
      ]
     },
     "execution_count": 45,
     "metadata": {},
     "output_type": "execute_result"
    }
   ],
   "source": [
    "df.columns = df.columns.str.replace('\\u007A', 'a', regex=True)\n",
    "df"
   ]
  },
  {
   "cell_type": "markdown",
   "id": "c67f894b",
   "metadata": {},
   "source": [
    "<font color=blue> ***Drop 1 index*** </font>"
   ]
  },
  {
   "cell_type": "code",
   "execution_count": 44,
   "id": "033c66f6",
   "metadata": {},
   "outputs": [],
   "source": [
    "df = df.drop(df.index[-1])\n"
   ]
  },
  {
   "cell_type": "markdown",
   "id": "ad2fcc97",
   "metadata": {},
   "source": [
    "<font color=blue> ***repalce z to a in whole data*** </font>"
   ]
  },
  {
   "cell_type": "code",
   "execution_count": 43,
   "id": "a2d80e1c",
   "metadata": {},
   "outputs": [
    {
     "data": {
      "text/html": [
       "<div>\n",
       "<style scoped>\n",
       "    .dataframe tbody tr th:only-of-type {\n",
       "        vertical-align: middle;\n",
       "    }\n",
       "\n",
       "    .dataframe tbody tr th {\n",
       "        vertical-align: top;\n",
       "    }\n",
       "\n",
       "    .dataframe thead th {\n",
       "        text-align: right;\n",
       "    }\n",
       "</style>\n",
       "<table border=\"1\" class=\"dataframe\">\n",
       "  <thead>\n",
       "    <tr style=\"text-align: right;\">\n",
       "      <th></th>\n",
       "      <th>Sr.No</th>\n",
       "      <th>Host Name</th>\n",
       "      <th>Host Emp. Id</th>\n",
       "      <th>Host Department</th>\n",
       "      <th>VISITOR  NaME</th>\n",
       "      <th>Contact No</th>\n",
       "      <th>ID Proof No.</th>\n",
       "      <th>Visit Purpose</th>\n",
       "      <th>Date of Visit</th>\n",
       "      <th>Duration of Visit</th>\n",
       "      <th>access Card</th>\n",
       "      <th>In Time</th>\n",
       "      <th>Out time</th>\n",
       "      <th>Vehicle No</th>\n",
       "      <th>RF ID</th>\n",
       "      <th>DVR Pass No</th>\n",
       "      <th>Remarks</th>\n",
       "      <th>Bacon number</th>\n",
       "    </tr>\n",
       "  </thead>\n",
       "  <tbody>\n",
       "    <tr>\n",
       "      <th>0</th>\n",
       "      <td>NaN</td>\n",
       "      <td>NaN</td>\n",
       "      <td>NaN</td>\n",
       "      <td>NaN</td>\n",
       "      <td>01.08.2022</td>\n",
       "      <td>NaN</td>\n",
       "      <td>NaN</td>\n",
       "      <td>NaN</td>\n",
       "      <td>NaN</td>\n",
       "      <td>NaN</td>\n",
       "      <td>NaN</td>\n",
       "      <td>NaN</td>\n",
       "      <td>NaN</td>\n",
       "      <td>NaN</td>\n",
       "      <td>NaN</td>\n",
       "      <td>NaN</td>\n",
       "      <td>NaN</td>\n",
       "      <td>NaN</td>\n",
       "    </tr>\n",
       "    <tr>\n",
       "      <th>1</th>\n",
       "      <td>1.0</td>\n",
       "      <td>Naman Vyas</td>\n",
       "      <td>NaN</td>\n",
       "      <td>NaN</td>\n",
       "      <td>Dinesh anand</td>\n",
       "      <td>7255767722</td>\n",
       "      <td>376285000000</td>\n",
       "      <td>metting</td>\n",
       "      <td>01.08.2022</td>\n",
       "      <td>01 day</td>\n",
       "      <td>v08</td>\n",
       "      <td>08:30:00</td>\n",
       "      <td>17:57:00</td>\n",
       "      <td>NaN</td>\n",
       "      <td>NaN</td>\n",
       "      <td>NaN</td>\n",
       "      <td>till to 02 august</td>\n",
       "      <td>NaN</td>\n",
       "    </tr>\n",
       "    <tr>\n",
       "      <th>2</th>\n",
       "      <td>2.0</td>\n",
       "      <td>Jigar Maheshwari</td>\n",
       "      <td>aHDIT00336</td>\n",
       "      <td>IT</td>\n",
       "      <td>Rajeshwar Rami</td>\n",
       "      <td>5574043553</td>\n",
       "      <td>7005 4588 3505</td>\n",
       "      <td>Transfer</td>\n",
       "      <td>01.08.2022</td>\n",
       "      <td>01 day</td>\n",
       "      <td>w45</td>\n",
       "      <td>08:52:00</td>\n",
       "      <td>18:38:00</td>\n",
       "      <td>NaN</td>\n",
       "      <td>NaN</td>\n",
       "      <td>NaN</td>\n",
       "      <td>till to 13 august</td>\n",
       "      <td>NaN</td>\n",
       "    </tr>\n",
       "    <tr>\n",
       "      <th>3</th>\n",
       "      <td>3.0</td>\n",
       "      <td>Sankit Shah</td>\n",
       "      <td>NaN</td>\n",
       "      <td>NaN</td>\n",
       "      <td>arpan Shah</td>\n",
       "      <td>6582282651</td>\n",
       "      <td>NaN</td>\n",
       "      <td>joining</td>\n",
       "      <td>01.08.2022</td>\n",
       "      <td>01 day</td>\n",
       "      <td>e05</td>\n",
       "      <td>05:14:00</td>\n",
       "      <td>18:16:00</td>\n",
       "      <td>NaN</td>\n",
       "      <td>NaN</td>\n",
       "      <td>NaN</td>\n",
       "      <td>till to 6 august</td>\n",
       "      <td>NaN</td>\n",
       "    </tr>\n",
       "    <tr>\n",
       "      <th>4</th>\n",
       "      <td>4.0</td>\n",
       "      <td>Devendra Karoshikar</td>\n",
       "      <td>NaN</td>\n",
       "      <td>NaN</td>\n",
       "      <td>Lokesh Meena</td>\n",
       "      <td>7855805351</td>\n",
       "      <td>NaN</td>\n",
       "      <td>joining</td>\n",
       "      <td>01.08.2022</td>\n",
       "      <td>01 day</td>\n",
       "      <td>w50</td>\n",
       "      <td>05:36:00</td>\n",
       "      <td>15:34:00</td>\n",
       "      <td>NaN</td>\n",
       "      <td>NaN</td>\n",
       "      <td>NaN</td>\n",
       "      <td>till to 6 august</td>\n",
       "      <td>reception are</td>\n",
       "    </tr>\n",
       "    <tr>\n",
       "      <th>...</th>\n",
       "      <td>...</td>\n",
       "      <td>...</td>\n",
       "      <td>...</td>\n",
       "      <td>...</td>\n",
       "      <td>...</td>\n",
       "      <td>...</td>\n",
       "      <td>...</td>\n",
       "      <td>...</td>\n",
       "      <td>...</td>\n",
       "      <td>...</td>\n",
       "      <td>...</td>\n",
       "      <td>...</td>\n",
       "      <td>...</td>\n",
       "      <td>...</td>\n",
       "      <td>...</td>\n",
       "      <td>...</td>\n",
       "      <td>...</td>\n",
       "      <td>...</td>\n",
       "    </tr>\n",
       "    <tr>\n",
       "      <th>1621</th>\n",
       "      <td>165.0</td>\n",
       "      <td>Karan Shah</td>\n",
       "      <td>NaN</td>\n",
       "      <td>NaN</td>\n",
       "      <td>Mr alap shah</td>\n",
       "      <td>5714625573</td>\n",
       "      <td>NaN</td>\n",
       "      <td>metting</td>\n",
       "      <td>06.08.2022</td>\n",
       "      <td>01day</td>\n",
       "      <td>v153</td>\n",
       "      <td>16:16:00</td>\n",
       "      <td>17:18:00</td>\n",
       "      <td>NaN</td>\n",
       "      <td>NaN</td>\n",
       "      <td>NaN</td>\n",
       "      <td>NaN</td>\n",
       "      <td>NaN</td>\n",
       "    </tr>\n",
       "    <tr>\n",
       "      <th>1622</th>\n",
       "      <td>166.0</td>\n",
       "      <td>Dhanesh Tailor</td>\n",
       "      <td>NaN</td>\n",
       "      <td>NaN</td>\n",
       "      <td>Damini Chaudhari</td>\n",
       "      <td>7045137363</td>\n",
       "      <td>NaN</td>\n",
       "      <td>metting</td>\n",
       "      <td>06.08.2022</td>\n",
       "      <td>01day</td>\n",
       "      <td>v145</td>\n",
       "      <td>16:38:00</td>\n",
       "      <td>15:25:00</td>\n",
       "      <td>gj01hu0587</td>\n",
       "      <td>v784</td>\n",
       "      <td>NaN</td>\n",
       "      <td>NaN</td>\n",
       "      <td>NaN</td>\n",
       "    </tr>\n",
       "    <tr>\n",
       "      <th>1623</th>\n",
       "      <td>167.0</td>\n",
       "      <td>PaRIDHI BHaVSaR</td>\n",
       "      <td>NaN</td>\n",
       "      <td>HR</td>\n",
       "      <td>MR DIPaK PaRMaR</td>\n",
       "      <td>8505785082</td>\n",
       "      <td>566861000000</td>\n",
       "      <td>metting</td>\n",
       "      <td>06.08.2022</td>\n",
       "      <td>01day</td>\n",
       "      <td>V286</td>\n",
       "      <td>17;06</td>\n",
       "      <td>18:20:00</td>\n",
       "      <td>NaN</td>\n",
       "      <td>NaN</td>\n",
       "      <td>NaN</td>\n",
       "      <td>NaN</td>\n",
       "      <td>NaN</td>\n",
       "    </tr>\n",
       "    <tr>\n",
       "      <th>1624</th>\n",
       "      <td>168.0</td>\n",
       "      <td>ashok Chaudhary</td>\n",
       "      <td>5100165546</td>\n",
       "      <td>Technical</td>\n",
       "      <td>andharia hemal</td>\n",
       "      <td>5723460046</td>\n",
       "      <td>613025000000</td>\n",
       "      <td>Maintenance</td>\n",
       "      <td>06.08.2022</td>\n",
       "      <td>01day</td>\n",
       "      <td>V207</td>\n",
       "      <td>17:13:00</td>\n",
       "      <td>18:21:00</td>\n",
       "      <td>GJ01KWE2578</td>\n",
       "      <td>V452</td>\n",
       "      <td>NaN</td>\n",
       "      <td>NaN</td>\n",
       "      <td>NaN</td>\n",
       "    </tr>\n",
       "    <tr>\n",
       "      <th>1625</th>\n",
       "      <td>165.0</td>\n",
       "      <td>Chirag Patel</td>\n",
       "      <td>S0057743</td>\n",
       "      <td>Store</td>\n",
       "      <td>Kalpesh Parmar</td>\n",
       "      <td>5727735762</td>\n",
       "      <td>520383000000</td>\n",
       "      <td>Official</td>\n",
       "      <td>06.08.2022</td>\n",
       "      <td>01day</td>\n",
       "      <td>V255</td>\n",
       "      <td>17:16:00</td>\n",
       "      <td>18:20:00</td>\n",
       "      <td>NaN</td>\n",
       "      <td>NaN</td>\n",
       "      <td>NaN</td>\n",
       "      <td>NaN</td>\n",
       "      <td>NaN</td>\n",
       "    </tr>\n",
       "  </tbody>\n",
       "</table>\n",
       "<p>1626 rows × 18 columns</p>\n",
       "</div>"
      ],
      "text/plain": [
       "      Sr.No            Host Name Host Emp. Id Host Department  \\\n",
       "0       NaN                  NaN          NaN             NaN   \n",
       "1       1.0           Naman Vyas          NaN             NaN   \n",
       "2       2.0     Jigar Maheshwari   aHDIT00336              IT   \n",
       "3       3.0          Sankit Shah          NaN             NaN   \n",
       "4       4.0  Devendra Karoshikar          NaN             NaN   \n",
       "...     ...                  ...          ...             ...   \n",
       "1621  165.0           Karan Shah          NaN             NaN   \n",
       "1622  166.0       Dhanesh Tailor          NaN             NaN   \n",
       "1623  167.0      PaRIDHI BHaVSaR          NaN              HR   \n",
       "1624  168.0      ashok Chaudhary   5100165546       Technical   \n",
       "1625  165.0         Chirag Patel     S0057743           Store   \n",
       "\n",
       "         VISITOR  NaME  Contact No    ID Proof No. Visit Purpose  \\\n",
       "0           01.08.2022         NaN             NaN           NaN   \n",
       "1         Dinesh anand  7255767722    376285000000       metting   \n",
       "2       Rajeshwar Rami  5574043553  7005 4588 3505      Transfer   \n",
       "3           arpan Shah  6582282651             NaN       joining   \n",
       "4         Lokesh Meena  7855805351             NaN       joining   \n",
       "...                ...         ...             ...           ...   \n",
       "1621      Mr alap shah  5714625573             NaN       metting   \n",
       "1622  Damini Chaudhari  7045137363             NaN       metting   \n",
       "1623   MR DIPaK PaRMaR  8505785082    566861000000       metting   \n",
       "1624    andharia hemal  5723460046    613025000000   Maintenance   \n",
       "1625    Kalpesh Parmar  5727735762    520383000000      Official   \n",
       "\n",
       "     Date of Visit Duration of Visit access Card   In Time  Out time  \\\n",
       "0              NaN               NaN         NaN       NaN       NaN   \n",
       "1       01.08.2022            01 day         v08  08:30:00  17:57:00   \n",
       "2       01.08.2022            01 day         w45  08:52:00  18:38:00   \n",
       "3       01.08.2022            01 day         e05  05:14:00  18:16:00   \n",
       "4       01.08.2022            01 day         w50  05:36:00  15:34:00   \n",
       "...            ...               ...         ...       ...       ...   \n",
       "1621    06.08.2022             01day        v153  16:16:00  17:18:00   \n",
       "1622    06.08.2022             01day        v145  16:38:00  15:25:00   \n",
       "1623    06.08.2022             01day        V286     17;06  18:20:00   \n",
       "1624    06.08.2022             01day        V207  17:13:00  18:21:00   \n",
       "1625    06.08.2022             01day        V255  17:16:00  18:20:00   \n",
       "\n",
       "       Vehicle No RF ID DVR Pass No             Remarks   Bacon number  \n",
       "0             NaN   NaN          NaN                NaN            NaN  \n",
       "1             NaN   NaN          NaN  till to 02 august            NaN  \n",
       "2             NaN   NaN          NaN  till to 13 august            NaN  \n",
       "3             NaN   NaN          NaN   till to 6 august            NaN  \n",
       "4             NaN   NaN          NaN   till to 6 august  reception are  \n",
       "...           ...   ...          ...                ...            ...  \n",
       "1621          NaN   NaN          NaN                NaN            NaN  \n",
       "1622   gj01hu0587  v784          NaN                NaN            NaN  \n",
       "1623          NaN   NaN          NaN                NaN            NaN  \n",
       "1624  GJ01KWE2578  V452          NaN                NaN            NaN  \n",
       "1625          NaN   NaN          NaN                NaN            NaN  \n",
       "\n",
       "[1626 rows x 18 columns]"
      ]
     },
     "execution_count": 43,
     "metadata": {},
     "output_type": "execute_result"
    }
   ],
   "source": [
    "df = df.replace('z', 'a', regex=True)\n",
    "df\n"
   ]
  },
  {
   "cell_type": "markdown",
   "id": "e5b71bd5",
   "metadata": {},
   "source": [
    "<font color=blue> ***dataset info*** </font>"
   ]
  },
  {
   "cell_type": "code",
   "execution_count": 7,
   "id": "cc941bb8",
   "metadata": {},
   "outputs": [
    {
     "name": "stdout",
     "output_type": "stream",
     "text": [
      "<class 'pandas.core.frame.DataFrame'>\n",
      "Int64Index: 1626 entries, 0 to 1625\n",
      "Data columns (total 18 columns):\n",
      " #   Column             Non-Null Count  Dtype  \n",
      "---  ------             --------------  -----  \n",
      " 0   Sr.No              1620 non-null   float64\n",
      " 1   Host Name          1620 non-null   object \n",
      " 2   Host Emp. Id       247 non-null    object \n",
      " 3   Host Department    261 non-null    object \n",
      " 4   VISITOR  NaME      1622 non-null   object \n",
      " 5   Contact No         1571 non-null   object \n",
      " 6   ID Proof No.       378 non-null    object \n",
      " 7   Visit Purpose      1604 non-null   object \n",
      " 8   Date of Visit      1620 non-null   object \n",
      " 9   Duration of Visit  1620 non-null   object \n",
      " 10  access Card        1620 non-null   object \n",
      " 11  In Time            1620 non-null   object \n",
      " 12  Out time           1578 non-null   object \n",
      " 13  Vehicle No         347 non-null    object \n",
      " 14  RF ID              311 non-null    object \n",
      " 15  DVR Pass No        109 non-null    object \n",
      " 16  Remarks            322 non-null    object \n",
      " 17  Bacon number       11 non-null     object \n",
      "dtypes: float64(1), object(17)\n",
      "memory usage: 241.4+ KB\n"
     ]
    }
   ],
   "source": [
    "df.info()"
   ]
  },
  {
   "cell_type": "code",
   "execution_count": 46,
   "id": "0751da44",
   "metadata": {},
   "outputs": [],
   "source": [
    "#fill null value with \"nan\"\n",
    "df_filled = df.fillna(\"nan\")"
   ]
  },
  {
   "cell_type": "markdown",
   "id": "6f21d2ed",
   "metadata": {},
   "source": [
    "<font color=blue> ***null value sum*** </font>"
   ]
  },
  {
   "cell_type": "code",
   "execution_count": 8,
   "id": "070fcbd7",
   "metadata": {},
   "outputs": [
    {
     "data": {
      "text/plain": [
       "Sr.No                   6\n",
       "Host Name               6\n",
       "Host Emp. Id         1379\n",
       "Host Department      1365\n",
       "VISITOR  NaME           4\n",
       "Contact No             55\n",
       "ID Proof No.         1248\n",
       "Visit Purpose          22\n",
       "Date of Visit           6\n",
       "Duration of Visit       6\n",
       "access Card             6\n",
       "In Time                 6\n",
       "Out time               48\n",
       "Vehicle No           1279\n",
       "RF ID                1315\n",
       "DVR Pass No          1517\n",
       "Remarks              1304\n",
       "Bacon number         1615\n",
       "dtype: int64"
      ]
     },
     "execution_count": 8,
     "metadata": {},
     "output_type": "execute_result"
    }
   ],
   "source": [
    "df.isnull().sum()"
   ]
  },
  {
   "cell_type": "markdown",
   "id": "d3f42536",
   "metadata": {},
   "source": [
    "<font color=blue> ***null %*** </font>"
   ]
  },
  {
   "cell_type": "code",
   "execution_count": 9,
   "id": "1b52e180",
   "metadata": {},
   "outputs": [
    {
     "data": {
      "text/plain": [
       "Sr.No                 0.369004\n",
       "Host Name             0.369004\n",
       "Host Emp. Id         84.809348\n",
       "Host Department      83.948339\n",
       "VISITOR  NaME         0.246002\n",
       "Contact No            3.382534\n",
       "ID Proof No.         76.752768\n",
       "Visit Purpose         1.353014\n",
       "Date of Visit         0.369004\n",
       "Duration of Visit     0.369004\n",
       "access Card           0.369004\n",
       "In Time               0.369004\n",
       "Out time              2.952030\n",
       "Vehicle No           78.659287\n",
       "RF ID                80.873309\n",
       "DVR Pass No          93.296433\n",
       "Remarks              80.196802\n",
       "Bacon number         99.323493\n",
       "dtype: float64"
      ]
     },
     "execution_count": 9,
     "metadata": {},
     "output_type": "execute_result"
    }
   ],
   "source": [
    "null_percentage = (df.isnull().sum() / len(df)) * 100\n",
    "null_percentage"
   ]
  },
  {
   "cell_type": "code",
   "execution_count": 10,
   "id": "ea683023",
   "metadata": {},
   "outputs": [
    {
     "data": {
      "text/plain": [
       "0"
      ]
     },
     "execution_count": 10,
     "metadata": {},
     "output_type": "execute_result"
    }
   ],
   "source": [
    "df.duplicated().sum()"
   ]
  },
  {
   "cell_type": "markdown",
   "id": "1df08f60",
   "metadata": {},
   "source": [
    "<font color=blue> ***pie chart of null values and filled values*** </font>"
   ]
  },
  {
   "cell_type": "code",
   "execution_count": 11,
   "id": "7e6b7d7e",
   "metadata": {},
   "outputs": [
    {
     "data": {
      "image/png": "[encoded data removed]",
      "text/plain": [
       "<Figure size 576x576 with 1 Axes>"
      ]
     },
     "metadata": {},
     "output_type": "display_data"
    }
   ],
   "source": [
    "\n",
    "import matplotlib.pyplot as plt\n",
    "import pandas as pd\n",
    "\n",
    "# Fill NaN values with \"null\"\n",
    "\n",
    "\n",
    "# Count the occurrences of \"null\" and non-\"null\" values in the DataFrame\n",
    "null_count = df.apply(lambda x: x.isnull().sum())\n",
    "filled_count = df.apply(lambda x: x.notnull().sum())\n",
    "\n",
    "# Create a DataFrame for \"null\" and non-\"null\" counts\n",
    "data = pd.DataFrame({'Null': null_count, 'Filled': filled_count})\n",
    "\n",
    "\n",
    "# Plot a pie chart\n",
    "plt.figure(figsize=(8, 8))\n",
    "plt.pie(data.sum(), labels=data.columns, autopct='%1.1f%%', startangle=140)\n",
    "plt.title('Distribution of Null and Filled Values')\n",
    "plt.show()\n"
   ]
  },
  {
   "cell_type": "markdown",
   "id": "129421fa",
   "metadata": {},
   "source": [
    "<font color=blue> ***columns list*** </font>"
   ]
  },
  {
   "cell_type": "code",
   "execution_count": 12,
   "id": "f18e1c1c",
   "metadata": {},
   "outputs": [
    {
     "data": {
      "text/plain": [
       "['Sr.No',\n",
       " 'Host Name',\n",
       " 'Host Emp. Id',\n",
       " 'Host Department',\n",
       " 'VISITOR  NaME',\n",
       " 'Contact No',\n",
       " 'ID Proof No.',\n",
       " 'Visit Purpose',\n",
       " 'Date of Visit',\n",
       " 'Duration of Visit',\n",
       " 'access Card',\n",
       " 'In Time',\n",
       " 'Out time',\n",
       " 'Vehicle No',\n",
       " 'RF ID',\n",
       " 'DVR Pass No ',\n",
       " 'Remarks',\n",
       " 'Bacon number']"
      ]
     },
     "execution_count": 12,
     "metadata": {},
     "output_type": "execute_result"
    }
   ],
   "source": [
    "df.columns.tolist()"
   ]
  },
  {
   "cell_type": "markdown",
   "id": "49e79e91",
   "metadata": {},
   "source": [
    "<font color=blue> ***change dataset in 1st letter in upper case and after that lowercase*** </font>"
   ]
  },
  {
   "cell_type": "code",
   "execution_count": 13,
   "id": "805d944e",
   "metadata": {},
   "outputs": [],
   "source": [
    "df = df.applymap(lambda x: str(x).title().lower())"
   ]
  },
  {
   "cell_type": "markdown",
   "id": "4183f455",
   "metadata": {},
   "source": [
    "<font color=blue> ***change data names whose spelling are incorrect*** </font>"
   ]
  },
  {
   "cell_type": "code",
   "execution_count": 14,
   "id": "9f2f2a6b",
   "metadata": {},
   "outputs": [],
   "source": [
    "# Create a dictionary for replacement\n",
    "replacement_dict = {\n",
    "    'metting': 'Meeting',\n",
    "    'meeting': 'Meeting',\n",
    "    'meting': 'Meeting'\n",
    "}\n",
    "\n",
    "# Apply replacements to the entire DataFrame\n",
    "df = df.replace(replacement_dict, regex=True)\n"
   ]
  },
  {
   "cell_type": "code",
   "execution_count": 15,
   "id": "5be25532",
   "metadata": {},
   "outputs": [],
   "source": [
    "# Create a dictionary for replacement\n",
    "replacement_dict = {\n",
    "    'METTING': 'Meeting'\n",
    "}\n",
    "\n",
    "# Apply replacements to the entire DataFrame\n",
    "df = df.replace(replacement_dict, regex=True)\n"
   ]
  },
  {
   "cell_type": "markdown",
   "id": "68e372ac",
   "metadata": {},
   "source": [
    "<font color=blue> ***Visualize the distribution of visit purposes (top 5)*** </font>"
   ]
  },
  {
   "cell_type": "code",
   "execution_count": 16,
   "id": "eb7707eb",
   "metadata": {},
   "outputs": [
    {
     "data": {
      "image/png": "[encoded data removed]",
      "text/plain": [
       "<Figure size 720x432 with 1 Axes>"
      ]
     },
     "metadata": {
      "needs_background": "light"
     },
     "output_type": "display_data"
    }
   ],
   "source": [
    "top_purposes = df['Visit Purpose'].value_counts().nlargest(5).index\n",
    "\n",
    "plt.figure(figsize=(10, 6))\n",
    "sns.countplot(x='Visit Purpose', data=df[df['Visit Purpose'].isin(top_purposes)])\n",
    "plt.title('Distribution of Top 5 Visit Purposes')\n",
    "plt.xlabel('Visit Purpose')\n",
    "plt.ylabel('Count')\n",
    "plt.xticks(rotation=45, ha='right')\n",
    "plt.show()\n"
   ]
  },
  {
   "cell_type": "markdown",
   "id": "984930b4",
   "metadata": {},
   "source": [
    "<font color=blue> ***Group data by date and count the total number of visits on each date*** </font>"
   ]
  },
  {
   "cell_type": "code",
   "execution_count": 17,
   "id": "61ff2787",
   "metadata": {},
   "outputs": [
    {
     "data": {
      "image/png": "[encoded data removed]",
      "text/plain": [
       "<Figure size 864x432 with 1 Axes>"
      ]
     },
     "metadata": {
      "needs_background": "light"
     },
     "output_type": "display_data"
    }
   ],
   "source": [
    "daily_counts = df.groupby('Date of Visit').size().reset_index(name='Total Visits')\n",
    "\n",
    "plt.figure(figsize=(12, 6))\n",
    "sns.lineplot(x='Date of Visit', y='Total Visits', data=daily_counts)\n",
    "plt.title('Total Visits Over Time')\n",
    "plt.xlabel('Date of Visit')\n",
    "plt.ylabel('Total Visits')\n",
    "plt.xticks(rotation=45, ha='right')\n",
    "plt.grid(True, linestyle='--', alpha=0.7)\n",
    "plt.show()\n"
   ]
  },
  {
   "cell_type": "code",
   "execution_count": 18,
   "id": "0486c0dd",
   "metadata": {},
   "outputs": [
    {
     "name": "stdout",
     "output_type": "stream",
     "text": [
      "<class 'pandas.core.frame.DataFrame'>\n",
      "Int64Index: 1626 entries, 0 to 1625\n",
      "Data columns (total 18 columns):\n",
      " #   Column             Non-Null Count  Dtype \n",
      "---  ------             --------------  ----- \n",
      " 0   Sr.No              1626 non-null   object\n",
      " 1   Host Name          1626 non-null   object\n",
      " 2   Host Emp. Id       1626 non-null   object\n",
      " 3   Host Department    1626 non-null   object\n",
      " 4   VISITOR  NaME      1626 non-null   object\n",
      " 5   Contact No         1626 non-null   object\n",
      " 6   ID Proof No.       1626 non-null   object\n",
      " 7   Visit Purpose      1626 non-null   object\n",
      " 8   Date of Visit      1626 non-null   object\n",
      " 9   Duration of Visit  1626 non-null   object\n",
      " 10  access Card        1626 non-null   object\n",
      " 11  In Time            1626 non-null   object\n",
      " 12  Out time           1626 non-null   object\n",
      " 13  Vehicle No         1626 non-null   object\n",
      " 14  RF ID              1626 non-null   object\n",
      " 15  DVR Pass No        1626 non-null   object\n",
      " 16  Remarks            1626 non-null   object\n",
      " 17  Bacon number       1626 non-null   object\n",
      "dtypes: object(18)\n",
      "memory usage: 241.4+ KB\n"
     ]
    }
   ],
   "source": [
    "df.info()"
   ]
  },
  {
   "cell_type": "markdown",
   "id": "296aa9ce",
   "metadata": {},
   "source": [
    "<font color=blue> ***change 01day into 01 day*** </font>"
   ]
  },
  {
   "cell_type": "code",
   "execution_count": 19,
   "id": "e6e3d3c0",
   "metadata": {},
   "outputs": [],
   "source": [
    "#Create a dictionary for replacement\n",
    "replacement_dict = {\n",
    "    '01day': '01 day'\n",
    "}\n",
    "\n",
    "# Apply replacements to the entire DataFrame\n",
    "df = df.replace(replacement_dict, regex=True)"
   ]
  },
  {
   "cell_type": "markdown",
   "id": "d07c0e2a",
   "metadata": {},
   "source": [
    "<font color=blue> ***Visualize the duration of visits*** </font>"
   ]
  },
  {
   "cell_type": "code",
   "execution_count": 20,
   "id": "8611c179",
   "metadata": {},
   "outputs": [
    {
     "data": {
      "image/png": "[encoded data removed]",
      "text/plain": [
       "<Figure size 720x432 with 1 Axes>"
      ]
     },
     "metadata": {
      "needs_background": "light"
     },
     "output_type": "display_data"
    }
   ],
   "source": [
    "plt.figure(figsize=(10, 6))\n",
    "sns.histplot(df['Duration of Visit'], bins=5, kde=False)\n",
    "plt.title('Distribution of Duration of Visits')\n",
    "plt.xlabel('Duration of Visit')\n",
    "plt.ylabel('Count')\n",
    "plt.show()"
   ]
  },
  {
   "cell_type": "markdown",
   "id": "8fd55c4c",
   "metadata": {},
   "source": [
    "<font color=blue> ***most repeating visitor*** </font>"
   ]
  },
  {
   "cell_type": "code",
   "execution_count": 21,
   "id": "843128de",
   "metadata": {},
   "outputs": [
    {
     "name": "stdout",
     "output_type": "stream",
     "text": [
      "The visitor repeating the most is 'parth patel' with 11 repeats.\n"
     ]
    }
   ],
   "source": [
    "visitor_counts = df['VISITOR  NaME'].value_counts()\n",
    "\n",
    "# Display the visitor with the highest count\n",
    "most_repeating_visitor = visitor_counts.idxmax()\n",
    "count_of_repeats = visitor_counts.max()\n",
    "\n",
    "print(f\"The visitor repeating the most is '{most_repeating_visitor}' with {count_of_repeats} repeats.\")"
   ]
  },
  {
   "cell_type": "markdown",
   "id": "cbda46b4",
   "metadata": {},
   "source": [
    "<font color=blue> ***visitor met with whom and which purpose*** </font>"
   ]
  },
  {
   "cell_type": "code",
   "execution_count": 22,
   "id": "03b6c4eb",
   "metadata": {},
   "outputs": [
    {
     "name": "stdout",
     "output_type": "stream",
     "text": [
      "Parth Patel met the most with host 'kalpesh thakor' and the purpose of visiting the most was 'it'.\n"
     ]
    }
   ],
   "source": [
    "parth_visits = df[df['VISITOR  NaME'] == 'parth patel']\n",
    "\n",
    "# Find the host name visited the most\n",
    "most_visited_host = parth_visits['Host Name'].value_counts().idxmax()\n",
    "\n",
    "# Find the purpose of visiting the most\n",
    "most_visited_purpose = parth_visits['Visit Purpose'].value_counts().idxmax()\n",
    "\n",
    "print(f\"Parth Patel met the most with host '{most_visited_host}' and the purpose of visiting the most was '{most_visited_purpose}'.\")\n"
   ]
  },
  {
   "cell_type": "markdown",
   "id": "9ff7f851",
   "metadata": {},
   "source": [
    "<font color=blue> ***top 5 visited persons*** </font>"
   ]
  },
  {
   "cell_type": "code",
   "execution_count": 23,
   "id": "6b9bdfb8",
   "metadata": {},
   "outputs": [
    {
     "name": "stdout",
     "output_type": "stream",
     "text": [
      "Top five most visited persons:\n",
      "parth patel       11\n",
      "wasim shaikh       6\n",
      "patel riken        6\n",
      "urvi gadhvi        6\n",
      "rajeshwar rami     6\n",
      "Name: VISITOR  NaME, dtype: int64\n"
     ]
    },
    {
     "data": {
      "image/png": "[encoded data removed]",
      "text/plain": [
       "<Figure size 720x432 with 1 Axes>"
      ]
     },
     "metadata": {
      "needs_background": "light"
     },
     "output_type": "display_data"
    }
   ],
   "source": [
    "top_visited_persons = df['VISITOR  NaME'].value_counts().nlargest(5)\n",
    "\n",
    "print(\"Top five most visited persons:\")\n",
    "print(top_visited_persons)\n",
    "\n",
    "\n",
    "plt.figure(figsize=(10, 6))\n",
    "top_visited_persons.plot(kind='bar')\n",
    "plt.title('Top Five Most Visited Persons')\n",
    "plt.xlabel('VISITOR  NaME')\n",
    "plt.ylabel('Visit Count')\n",
    "plt.show()\n"
   ]
  },
  {
   "cell_type": "markdown",
   "id": "d4ea693a",
   "metadata": {},
   "source": [
    "<font color=blue> ***top 5 host name who met with most of the visitor*** </font>"
   ]
  },
  {
   "cell_type": "code",
   "execution_count": 37,
   "id": "346b8ffc",
   "metadata": {},
   "outputs": [
    {
     "name": "stdout",
     "output_type": "stream",
     "text": [
      "Visit counts for each host:\n",
      "hemal patadiya          68\n",
      "naman vyas              56\n",
      "hit kumar brahmbhatt    49\n",
      "arjun padhiyar          36\n",
      "paridhi bhawsar         36\n",
      "Name: Host Name, dtype: int64\n"
     ]
    },
    {
     "data": {
      "image/png": "[encoded data removed]",
      "text/plain": [
       "<Figure size 864x432 with 1 Axes>"
      ]
     },
     "metadata": {
      "needs_background": "light"
     },
     "output_type": "display_data"
    }
   ],
   "source": [
    "import matplotlib.pyplot as plt\n",
    "\n",
    "host_name_counts = df['Host Name'].value_counts().nlargest(5)\n",
    "\n",
    "# Print visit counts for each host\n",
    "print(\"Visit counts for each host:\")\n",
    "print(host_name_counts)\n",
    "\n",
    "# Customize plot\n",
    "plt.figure(figsize=(12, 6))\n",
    "host_name_counts.plot(kind='bar', color='indigo') \n",
    "plt.title('Visit Counts for Each Host Name', fontsize=16)  \n",
    "plt.xlabel('Host Name', fontsize=12)  # Corrected typo: fontsizec;g=12 to fontsize=12\n",
    "plt.ylabel('Visit Count', fontsize=12) \n",
    "plt.xticks(rotation=45, ha='right', fontsize=10)  \n",
    "plt.yticks(fontsize=10)  \n",
    "plt.grid(True, linestyle='--', alpha=0.7)\n",
    "plt.show()\n"
   ]
  },
  {
   "cell_type": "markdown",
   "id": "8feb4322",
   "metadata": {},
   "source": [
    "<font color=blue> ***Count of Visits by Department*** </font>"
   ]
  },
  {
   "cell_type": "code",
   "execution_count": 27,
   "id": "28bad6df",
   "metadata": {},
   "outputs": [
    {
     "name": "stdout",
     "output_type": "stream",
     "text": [
      "Count of visits by department:\n",
      "nan                    1365\n",
      "hr                       62\n",
      "it                       51\n",
      "hr                       13\n",
      "security automation      11\n",
      "admin                     9\n",
      "housekeeping              9\n",
      " tc                       9\n",
      "cbc                       8\n",
      "technical                 8\n",
      "it department             7\n",
      "techno commercial         7\n",
      "finance                   6\n",
      "f& b                      6\n",
      "projects                  5\n",
      "fire & security           4\n",
      "techno-comm.              4\n",
      "cbc                       3\n",
      "technology                3\n",
      "ael                       2\n",
      "security                  2\n",
      "human resources           2\n",
      "8100000085                2\n",
      "transmission              2\n",
      "f & a                     2\n",
      "raj shah                  2\n",
      "engineering               2\n",
      "maas                      2\n",
      "insurance                 2\n",
      "1                         2\n",
      "techno-commercial         2\n",
      "2                         1\n",
      "adani logistics           1\n",
      "legal                     1\n",
      " techno commercial        1\n",
      "ael project               1\n",
      "store                     1\n",
      " store                    1\n",
      "water business            1\n",
      " cement-project           1\n",
      " corporate it             1\n",
      " cbc                      1\n",
      " apsea                    1\n",
      "Name: Host Department, dtype: int64\n"
     ]
    }
   ],
   "source": [
    "visits_by_department = df['Host Department'].value_counts()\n",
    "print(\"Count of visits by department:\")\n",
    "print(visits_by_department)\n"
   ]
  },
  {
   "cell_type": "markdown",
   "id": "c3b1898b",
   "metadata": {},
   "source": [
    "<font color=blue> ***Count of visits by day of the week*** </font>"
   ]
  },
  {
   "cell_type": "code",
   "execution_count": 28,
   "id": "126cac95",
   "metadata": {},
   "outputs": [
    {
     "name": "stdout",
     "output_type": "stream",
     "text": [
      "Count of visits by day of the week:\n",
      "Tuesday      624\n",
      "Friday       316\n",
      "Saturday     256\n",
      "Sunday       255\n",
      "Wednesday    169\n",
      "Name: Day of Week, dtype: int64\n"
     ]
    }
   ],
   "source": [
    "df['Date of Visit'] = pd.to_datetime(df['Date of Visit'], errors='coerce')\n",
    "df['Day of Week'] = df['Date of Visit'].dt.day_name()\n",
    "visits_by_day = df['Day of Week'].value_counts()\n",
    "print(\"Count of visits by day of the week:\")\n",
    "print(visits_by_day)\n"
   ]
  },
  {
   "cell_type": "markdown",
   "id": "8a0eb706",
   "metadata": {},
   "source": [
    "<font color=blue> ***Count of visits by day of the week in bar plot*** </font>"
   ]
  },
  {
   "cell_type": "code",
   "execution_count": 29,
   "id": "a7710174",
   "metadata": {},
   "outputs": [
    {
     "data": {
      "image/png": "[encoded data removed]",
      "text/plain": [
       "<Figure size 720x432 with 1 Axes>"
      ]
     },
     "metadata": {
      "needs_background": "light"
     },
     "output_type": "display_data"
    }
   ],
   "source": [
    "import matplotlib.pyplot as plt\n",
    "import seaborn as sns\n",
    "\n",
    "df['Date of Visit'] = pd.to_datetime(df['Date of Visit'], errors='coerce')\n",
    "df['Day of Week'] = df['Date of Visit'].dt.day_name()\n",
    "visits_by_day = df['Day of Week'].value_counts()\n",
    "\n",
    "# Create a bar plot with data labels\n",
    "plt.figure(figsize=(10, 6))\n",
    "bar_plot = sns.barplot(x=visits_by_day.index, y=visits_by_day.values, palette='viridis')  # Set palette for color\n",
    "\n",
    "# Add data labels\n",
    "for i, v in enumerate(visits_by_day.values):\n",
    "    bar_plot.text(i, v + 0.1, str(v), ha='center', va='bottom', fontsize=10, color='black')\n",
    "\n",
    "plt.title('Count of Visits by Day of the Week')\n",
    "plt.xlabel('Day of the Week')\n",
    "plt.ylabel('Visit Count')\n",
    "plt.xticks(rotation=45, ha='right')  # Rotate x-axis labels for better readability\n",
    "plt.show()\n"
   ]
  },
  {
   "cell_type": "code",
   "execution_count": 30,
   "id": "90ac81c5",
   "metadata": {},
   "outputs": [
    {
     "data": {
      "image/png": "[encoded data removed]",
      "text/plain": [
       "<Figure size 720x432 with 1 Axes>"
      ]
     },
     "metadata": {
      "needs_background": "light"
     },
     "output_type": "display_data"
    }
   ],
   "source": [
    "# ttop 10 vehicle number with the highest with the highest counts\n",
    "plt.figure(figsize=(10, 6))\n",
    "top_vehicle_numbers = df['Vehicle No'].value_counts().nlargest(10)\n",
    "\n",
    "bar_plot = sns.barplot(x=top_vehicle_numbers.index, y=top_vehicle_numbers.values)\n",
    "plt.title('Top 10 Vehicle Numbers with the Highest Counts')\n",
    "plt.xlabel('Vehicle No')\n",
    "plt.ylabel('Count')\n",
    "plt.xticks(rotation=45, ha='right')\n",
    "\n",
    "# Add data labels\n",
    "for i, v in enumerate(top_vehicle_numbers.values):\n",
    "    bar_plot.text(i, v + 0.1, str(v), ha='center', va='bottom', fontsize=10, color='black')\n",
    "\n",
    "plt.show()\n"
   ]
  },
  {
   "cell_type": "markdown",
   "id": "570f6526",
   "metadata": {},
   "source": [
    "<font color=blue> ***top 10 access card with the highest counts*** </font>"
   ]
  },
  {
   "cell_type": "code",
   "execution_count": 31,
   "id": "4435af3a",
   "metadata": {},
   "outputs": [
    {
     "data": {
      "image/png": "[encoded data removed]",
      "text/plain": [
       "<Figure size 720x432 with 1 Axes>"
      ]
     },
     "metadata": {
      "needs_background": "light"
     },
     "output_type": "display_data"
    }
   ],
   "source": [
    "plt.figure(figsize=(10, 6))\n",
    "top_access_cards = df['access Card'].value_counts().nlargest(10)\n",
    "\n",
    "bar_plot = sns.barplot(x=top_access_cards.index, y=top_access_cards.values)\n",
    "plt.title('Top 10 Access Cards with the Highest Counts')\n",
    "plt.xlabel('Access Card')\n",
    "plt.ylabel('Count')\n",
    "plt.xticks(rotation=45, ha='right')\n",
    "\n",
    "# Add data labels\n",
    "for i, v in enumerate(top_access_cards.values):\n",
    "    bar_plot.text(i, v + 0.1, str(v), ha='center', va='bottom', fontsize=10, color='black')\n",
    "\n",
    "plt.show()\n"
   ]
  },
  {
   "cell_type": "markdown",
   "id": "33fb88e9",
   "metadata": {},
   "source": [
    "<font color=blue> ***number of unique host department and unique visit purpose*** </font>"
   ]
  },
  {
   "cell_type": "code",
   "execution_count": 32,
   "id": "c7d8e2bb",
   "metadata": {},
   "outputs": [
    {
     "name": "stdout",
     "output_type": "stream",
     "text": [
      "Number of Unique Host Departments: 43\n",
      "Number of Unique Visit Purposes: 87\n"
     ]
    }
   ],
   "source": [
    "unique_host_departments = df['Host Department'].nunique()\n",
    "unique_visit_purposes = df['Visit Purpose'].nunique()\n",
    "\n",
    "print(\"Number of Unique Host Departments:\", unique_host_departments)\n",
    "print(\"Number of Unique Visit Purposes:\", unique_visit_purposes)"
   ]
  },
  {
   "cell_type": "markdown",
   "id": "6efc58ea",
   "metadata": {},
   "source": [
    "<font color=blue> ***Visit count by host department*** </font>"
   ]
  },
  {
   "cell_type": "code",
   "execution_count": 33,
   "id": "3cfb0a4b",
   "metadata": {},
   "outputs": [
    {
     "data": {
      "image/png": "[encoded data removed]",
      "text/plain": [
       "<Figure size 576x288 with 1 Axes>"
      ]
     },
     "metadata": {
      "needs_background": "light"
     },
     "output_type": "display_data"
    }
   ],
   "source": [
    "import seaborn as sns\n",
    "\n",
    "plt.figure(figsize=(8, 4))\n",
    "sns.countplot(data=df, x='Host Department', order=df['Host Department'].value_counts().nlargest(10).index)\n",
    "plt.title('Visits Count by Host Department')\n",
    "plt.xticks(rotation=45, ha='right')\n",
    "plt.show()"
   ]
  },
  {
   "cell_type": "markdown",
   "id": "6564921a",
   "metadata": {},
   "source": [
    "<font color=blue> ***Total visits over time*** </font>"
   ]
  },
  {
   "cell_type": "code",
   "execution_count": 34,
   "id": "c848e417",
   "metadata": {},
   "outputs": [
    {
     "data": {
      "image/png": "[encoded data removed]",
      "text/plain": [
       "<Figure size 864x432 with 1 Axes>"
      ]
     },
     "metadata": {
      "needs_background": "light"
     },
     "output_type": "display_data"
    }
   ],
   "source": [
    "daily_counts = df.groupby('Date of Visit').size().reset_index(name='Total Visits')\n",
    "\n",
    "plt.figure(figsize=(12, 6))\n",
    "sns.lineplot(x='Date of Visit', y='Total Visits', data=daily_counts)\n",
    "plt.title('Total Visits Over Time')\n",
    "plt.xlabel('Date of Visit')\n",
    "plt.ylabel('Total Visits')\n",
    "plt.xticks(rotation=45, ha='right')\n",
    "plt.grid(True, linestyle='--', alpha=0.7)\n",
    "plt.show()"
   ]
  },
  {
   "cell_type": "markdown",
   "id": "cd79ef75",
   "metadata": {},
   "source": [
    "<font color=blue> Q. Which access card have highest number of visitor count?\n",
    "    \n",
    "Ans: w55 </font>"
   ]
  },
  {
   "cell_type": "markdown",
   "id": "98d2d2a8",
   "metadata": {},
   "source": [
    "<font color=blue>Q. Access card with lowest visitor count?\n",
    "    \n",
    "Ans: v185 </font>"
   ]
  },
  {
   "cell_type": "markdown",
   "id": "a1eae3cd",
   "metadata": {},
   "source": [
    "<font color=blue> Q.How this data can be useful to the company?\n",
    "    \n",
    "    \n",
    "Ans: This data can be used to understand the attendees purpose of the visit, duration of visit so that total hours spend on meeting or any other purposes can be evaluated.It can be used for security measures as well. This analysis can be further used to lessen than meeting hours so that other necessary work can be done.</font>"
   ]
  },
  {
   "cell_type": "markdown",
   "id": "74245799",
   "metadata": {},
   "source": [
    "Recommendation & suggestion\n",
    "\n",
    "→Meeting\n",
    "\n",
    "→Bacon number\n",
    "\n",
    "→Null"
   ]
  },
  {
   "cell_type": "code",
   "execution_count": null,
   "id": "c9602a45",
   "metadata": {},
   "outputs": [],
   "source": []
  },
  {
   "cell_type": "code",
   "execution_count": null,
   "id": "2bfa96a4",
   "metadata": {},
   "outputs": [],
   "source": []
  }
 ],
 "metadata": {
  "kernelspec": {
   "display_name": "Python 3",
   "language": "python",
   "name": "python3"
  },
  "language_info": {
   "codemirror_mode": {
    "name": "ipython",
    "version": 3
   },
   "file_extension": ".py",
   "mimetype": "text/x-python",
   "name": "python",
   "nbconvert_exporter": "python",
   "pygments_lexer": "ipython3",
   "version": "3.8.8"
  }
 },
 "nbformat": 4,
 "nbformat_minor": 5
}
